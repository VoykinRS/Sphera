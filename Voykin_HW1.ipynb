{
 "cells": [
  {
   "cell_type": "markdown",
   "metadata": {},
   "source": [
    "**Общая информация**\n",
    "\n",
    "**Срок сдачи:** 18 октября 2017, 06:00 <br\\>\n",
    "**Штраф за опоздание:** -2 балла после 06:00 18 октября, -4 балла после 06:00 25 октября, -6 баллов после 06:00 1 ноября\n",
    "\n",
    "При отправлении ДЗ указывайте фамилию в названии файла\n",
    "Присылать ДЗ необходимо в виде ссылки на свой github репозиторий в slack @alkhamush\n",
    "\n",
    "Необходимо в slack создать таск в приватный чат:\n",
    "/todo Фамилия Имя ссылка на гитхаб @alkhamush\n",
    "Пример:\n",
    "/todo Ксения Стройкова https://github.com/stroykova/spheremailru/stroykova_hw1.ipynb @alkhamush\n",
    "Дополнительно нужно просто скинуть ссылку в slack в личный чат\n",
    "\n",
    "Используйте данный Ipython Notebook при оформлении домашнего задания."
   ]
  },
  {
   "cell_type": "markdown",
   "metadata": {},
   "source": [
    "###### Задание 1 (2 баллов)\n",
    "Реализовать KNN в классе MyKNeighborsClassifier (обязательное условие: точность не ниже sklearn реализации)\n",
    "Разберитесь самостоятельно, какая мера расстояния используется в KNeighborsClassifier дефолтно и реализуйте свой алгоритм именно с этой мерой. Самостоятельно разберитесь, как считается score из KNeighborsClassifier и реализуйте аналог в своём классе. Score не должен уступать значению KNN из sklearn\n",
    "\n",
    "###### Задание 2 (2 балла)\n",
    "Добиться скорости работы на fit,  predict и predict_proba сравнимой со sklearn для iris и mnist\n",
    "Для этого используем numpy\n",
    "\n",
    "###### Задание 3 (2 балла)\n",
    "Для iris найдите такой параметр n_neighbors, при котором выдаётся наилучший score. Нарисуйте график зависимости score от n_neighbors\n",
    "\n",
    "###### Задание 4 (3 балла)\n",
    "Добавить algorithm='kd_tree' в реализацию KNN (использовать KDTree из sklearn.neighbors). Значение n_neighbors нужно взять из задания 3. Добиться скорости работы на fit,  predict и predict_proba сравнимой со sklearn для iris и mnist\n",
    "Для этого используем numpy. Score не должен уступать значению KNN из sklearn\n",
    "\n",
    "###### Задание 5 (1 балла)\n",
    "Описать для чего нужны следующие библиотеки/классы/функции (список будет ниже)\n",
    "\n",
    "**Штрафные баллы:**\n",
    "\n",
    "1. Невыполнение PEP8 -1 балл\n",
    "2. Отсутствие фамилии в имени скрипта (скрипт должен называться по аналогии со stroykova_hw1.ipynb) -1 балл\n",
    "3. Все строчки должны быть выполнены. Нужно, чтобы output команды можно было увидеть уже в git'е. В противном случае -1 балл\n",
    "4. При оформлении ДЗ нужно пользоваться данным файлом в качестве шаблона. Не нужно удалять и видоизменять структуру кода и текст. В противном случае -1 балл\n"
   ]
  },
  {
   "cell_type": "code",
   "execution_count": 35,
   "metadata": {},
   "outputs": [
    {
     "name": "stdout",
     "output_type": "stream",
     "text": [
      "The pycodestyle_magic extension is already loaded. To reload it, use:\n",
      "  %reload_ext pycodestyle_magic\n"
     ]
    }
   ],
   "source": [
    "import numpy as np\n",
    "import matplotlib.pyplot as plt\n",
    "\n",
    "import seaborn as sns\n",
    "from sklearn import datasets\n",
    "from sklearn.base import ClassifierMixin\n",
    "from sklearn.datasets import fetch_mldata\n",
    "from sklearn.neighbors.base import NeighborsBase, KNeighborsMixin, SupervisedIntegerMixin \n",
    "from sklearn.model_selection import train_test_split\n",
    "from sklearn.neighbors import KNeighborsClassifier\n",
    "%load_ext pycodestyle_magic"
   ]
  },
  {
   "cell_type": "code",
   "execution_count": 36,
   "metadata": {},
   "outputs": [],
   "source": [
    "#%%pycodestyle\n",
    "from sklearn.metrics import pairwise_distances\n",
    "from sklearn.neighbors import KDTree"
   ]
  },
  {
   "cell_type": "code",
   "execution_count": 72,
   "metadata": {},
   "outputs": [],
   "source": [
    "#%%pycodestyle\n",
    "\n",
    "\n",
    "class MyKNeighborsClassifier(NeighborsBase, KNeighborsMixin,\n",
    "                             SupervisedIntegerMixin, ClassifierMixin):\n",
    "\n",
    "    def __init__(self, n_neighbors, algorithm='brute'):\n",
    "        self.n_neighbors = n_neighbors\n",
    "        self.algorithm = algorithm\n",
    "\n",
    "    def fit(self, X, y):\n",
    "        self.X_train = X\n",
    "        self.y = y\n",
    "        if (self.algorithm == 'kd_tree'):\n",
    "            self.tree = KDTree(X)\n",
    "\n",
    "    def predict(self, X):\n",
    "        if (self.algorithm == 'brute'):\n",
    "            dist = pairwise_distances(X, self.X_train)\n",
    "            index = np.argpartition(dist, (self.n_neighbors))\n",
    "            index = index[:, :self.n_neighbors]\n",
    "        else:\n",
    "            _, index = self.tree.query(X, k=self.n_neighbors)\n",
    "        class_near_point = self.y[index].astype(int)\n",
    "        nearest_class = list(map(lambda x: np.argmax(np.bincount(x)),\n",
    "                                 class_near_point))\n",
    "        return np.array(nearest_class)\n",
    "\n",
    "    def predict_proba(self, X):\n",
    "        if (self.algorithm == 'brute'):\n",
    "            dist = pairwise_distances(X, self.X_train)\n",
    "            index = np.argpartition(dist, (self.n_neighbors))\n",
    "            index = index[:, :self.n_neighbors]\n",
    "        else:\n",
    "            _, index = self.tree.query(X, k=self.n_neighbors)\n",
    "        self.shape = len(set(self.y))\n",
    "        class_near_point = self.y[index].astype(int)\n",
    "        nearest_class = map(lambda x: np.bincount(x, minlength=self.shape),\n",
    "                            class_near_point)\n",
    "        return np.array(list(nearest_class))/self.n_neighbors\n",
    "\n",
    "    def score(self, X, y):\n",
    "        return len([x for x in self.predict(X) - np.array(y) if x == 0])/len(y)"
   ]
  },
  {
   "cell_type": "markdown",
   "metadata": {},
   "source": [
    "**IRIS**"
   ]
  },
  {
   "cell_type": "code",
   "execution_count": 38,
   "metadata": {},
   "outputs": [],
   "source": [
    "iris = datasets.load_iris()"
   ]
  },
  {
   "cell_type": "code",
   "execution_count": 39,
   "metadata": {},
   "outputs": [],
   "source": [
    "X_train, X_test, y_train, y_test = train_test_split(iris.data, iris.target, test_size=0.1, stratify=iris.target)"
   ]
  },
  {
   "cell_type": "code",
   "execution_count": 40,
   "metadata": {},
   "outputs": [],
   "source": [
    "clf = KNeighborsClassifier(n_neighbors=2)\n",
    "my_clf = MyKNeighborsClassifier(n_neighbors=2)"
   ]
  },
  {
   "cell_type": "code",
   "execution_count": 41,
   "metadata": {},
   "outputs": [
    {
     "name": "stdout",
     "output_type": "stream",
     "text": [
      "Wall time: 2 ms\n"
     ]
    },
    {
     "data": {
      "text/plain": [
       "KNeighborsClassifier(algorithm='auto', leaf_size=30, metric='minkowski',\n",
       "           metric_params=None, n_jobs=1, n_neighbors=2, p=2,\n",
       "           weights='uniform')"
      ]
     },
     "execution_count": 41,
     "metadata": {},
     "output_type": "execute_result"
    }
   ],
   "source": [
    "%time clf.fit(X_train, y_train)"
   ]
  },
  {
   "cell_type": "code",
   "execution_count": 42,
   "metadata": {},
   "outputs": [
    {
     "name": "stdout",
     "output_type": "stream",
     "text": [
      "Wall time: 0 ns\n"
     ]
    }
   ],
   "source": [
    "%time my_clf.fit(X_train, y_train)"
   ]
  },
  {
   "cell_type": "code",
   "execution_count": 43,
   "metadata": {},
   "outputs": [
    {
     "name": "stdout",
     "output_type": "stream",
     "text": [
      "Wall time: 999 µs\n"
     ]
    },
    {
     "data": {
      "text/plain": [
       "array([2, 1, 1, 1, 0, 2, 2, 2, 0, 1, 1, 0, 2, 0, 0])"
      ]
     },
     "execution_count": 43,
     "metadata": {},
     "output_type": "execute_result"
    }
   ],
   "source": [
    "%time clf.predict(X_test)"
   ]
  },
  {
   "cell_type": "code",
   "execution_count": 44,
   "metadata": {},
   "outputs": [
    {
     "name": "stdout",
     "output_type": "stream",
     "text": [
      "Wall time: 997 µs\n"
     ]
    },
    {
     "data": {
      "text/plain": [
       "array([2, 1, 1, 1, 0, 2, 2, 2, 0, 1, 1, 0, 2, 0, 0], dtype=int64)"
      ]
     },
     "execution_count": 44,
     "metadata": {},
     "output_type": "execute_result"
    }
   ],
   "source": [
    "%time my_clf.predict(X_test)"
   ]
  },
  {
   "cell_type": "code",
   "execution_count": 45,
   "metadata": {},
   "outputs": [
    {
     "name": "stdout",
     "output_type": "stream",
     "text": [
      "Wall time: 999 µs\n"
     ]
    },
    {
     "data": {
      "text/plain": [
       "array([[0., 0., 1.],\n",
       "       [0., 1., 0.],\n",
       "       [0., 1., 0.],\n",
       "       [0., 1., 0.],\n",
       "       [1., 0., 0.],\n",
       "       [0., 0., 1.],\n",
       "       [0., 0., 1.],\n",
       "       [0., 0., 1.],\n",
       "       [1., 0., 0.],\n",
       "       [0., 1., 0.],\n",
       "       [0., 1., 0.],\n",
       "       [1., 0., 0.],\n",
       "       [0., 0., 1.],\n",
       "       [1., 0., 0.],\n",
       "       [1., 0., 0.]])"
      ]
     },
     "execution_count": 45,
     "metadata": {},
     "output_type": "execute_result"
    }
   ],
   "source": [
    "%time clf.predict_proba(X_test)"
   ]
  },
  {
   "cell_type": "code",
   "execution_count": 46,
   "metadata": {},
   "outputs": [
    {
     "name": "stdout",
     "output_type": "stream",
     "text": [
      "Wall time: 998 µs\n"
     ]
    },
    {
     "data": {
      "text/plain": [
       "array([[0., 0., 1.],\n",
       "       [0., 1., 0.],\n",
       "       [0., 1., 0.],\n",
       "       [0., 1., 0.],\n",
       "       [1., 0., 0.],\n",
       "       [0., 0., 1.],\n",
       "       [0., 0., 1.],\n",
       "       [0., 0., 1.],\n",
       "       [1., 0., 0.],\n",
       "       [0., 1., 0.],\n",
       "       [0., 1., 0.],\n",
       "       [1., 0., 0.],\n",
       "       [0., 0., 1.],\n",
       "       [1., 0., 0.],\n",
       "       [1., 0., 0.]])"
      ]
     },
     "execution_count": 46,
     "metadata": {},
     "output_type": "execute_result"
    }
   ],
   "source": [
    "%time my_clf.predict_proba(X_test)"
   ]
  },
  {
   "cell_type": "code",
   "execution_count": 47,
   "metadata": {},
   "outputs": [
    {
     "data": {
      "text/plain": [
       "1.0"
      ]
     },
     "execution_count": 47,
     "metadata": {},
     "output_type": "execute_result"
    }
   ],
   "source": [
    "clf.score(X_test, y_test)"
   ]
  },
  {
   "cell_type": "code",
   "execution_count": 48,
   "metadata": {},
   "outputs": [
    {
     "data": {
      "text/plain": [
       "1.0"
      ]
     },
     "execution_count": 48,
     "metadata": {},
     "output_type": "execute_result"
    }
   ],
   "source": [
    "my_clf.score(X_test, y_test)"
   ]
  },
  {
   "cell_type": "markdown",
   "metadata": {},
   "source": [
    "Задание 3"
   ]
  },
  {
   "cell_type": "code",
   "execution_count": 49,
   "metadata": {},
   "outputs": [
    {
     "name": "stdout",
     "output_type": "stream",
     "text": [
      "Лучший показатель n_neighbors =  10\n"
     ]
    },
    {
     "data": {
      "image/png": "[encoded data removed]",
      "text/plain": [
       "<Figure size 432x288 with 1 Axes>"
      ]
     },
     "metadata": {},
     "output_type": "display_data"
    }
   ],
   "source": [
    "#%%pycodestyle\n",
    "import matplotlib.pyplot as plt\n",
    "from sklearn.model_selection import cross_val_score\n",
    "%matplotlib inline\n",
    "A = []\n",
    "for i in range(1, 30):\n",
    "    my_clf = MyKNeighborsClassifier(n_neighbors=i)\n",
    "    my_clf.fit(X_train, y_train)\n",
    "    score = cross_val_score(my_clf, iris.data, iris.target, cv=5)\n",
    "    A.append(score.mean())\n",
    "plt.xlabel(u'n_neighbors')\n",
    "plt.ylabel(u'Score')\n",
    "plt.plot(range(1, 30), A)\n",
    "print (\"Лучший показатель n_neighbors = \",np.argmax(A)+1)"
   ]
  },
  {
   "cell_type": "markdown",
   "metadata": {},
   "source": [
    "**MNIST**"
   ]
  },
  {
   "cell_type": "code",
   "execution_count": 50,
   "metadata": {},
   "outputs": [],
   "source": [
    "mnist = fetch_mldata('MNIST original')"
   ]
  },
  {
   "cell_type": "code",
   "execution_count": 51,
   "metadata": {},
   "outputs": [],
   "source": [
    "X_train, X_test, y_train, y_test = train_test_split(mnist.data, mnist.target, test_size=0.01, stratify=mnist.target)"
   ]
  },
  {
   "cell_type": "code",
   "execution_count": 52,
   "metadata": {},
   "outputs": [],
   "source": [
    "clf = KNeighborsClassifier(n_neighbors=2, algorithm = 'brute')\n",
    "my_clf = MyKNeighborsClassifier(n_neighbors=2)"
   ]
  },
  {
   "cell_type": "code",
   "execution_count": 53,
   "metadata": {},
   "outputs": [
    {
     "name": "stdout",
     "output_type": "stream",
     "text": [
      "Wall time: 9.99 ms\n"
     ]
    },
    {
     "data": {
      "text/plain": [
       "KNeighborsClassifier(algorithm='brute', leaf_size=30, metric='minkowski',\n",
       "           metric_params=None, n_jobs=1, n_neighbors=2, p=2,\n",
       "           weights='uniform')"
      ]
     },
     "execution_count": 53,
     "metadata": {},
     "output_type": "execute_result"
    }
   ],
   "source": [
    "%time clf.fit(X_train, y_train)"
   ]
  },
  {
   "cell_type": "code",
   "execution_count": 54,
   "metadata": {},
   "outputs": [
    {
     "name": "stdout",
     "output_type": "stream",
     "text": [
      "Wall time: 0 ns\n"
     ]
    }
   ],
   "source": [
    "%time my_clf.fit(X_train, y_train)"
   ]
  },
  {
   "cell_type": "code",
   "execution_count": 55,
   "metadata": {},
   "outputs": [
    {
     "name": "stdout",
     "output_type": "stream",
     "text": [
      "Wall time: 3.63 s\n"
     ]
    },
    {
     "data": {
      "text/plain": [
       "array([6., 9., 0., 8., 2., 8., 4., 4., 8., 0., 1., 7., 6., 2., 1., 0., 9.,\n",
       "       3., 4., 0., 8., 1., 3., 6., 2., 4., 7., 5., 8., 2., 7., 7., 7., 7.,\n",
       "       0., 9., 6., 6., 0., 1., 3., 8., 8., 8., 1., 6., 2., 6., 2., 0., 1.,\n",
       "       0., 6., 5., 5., 1., 3., 4., 9., 2., 9., 8., 3., 5., 0., 1., 5., 7.,\n",
       "       7., 6., 8., 2., 7., 9., 1., 5., 5., 6., 0., 8., 6., 2., 2., 0., 0.,\n",
       "       7., 8., 6., 1., 5., 6., 6., 5., 2., 6., 4., 7., 3., 0., 7., 9., 4.,\n",
       "       7., 9., 1., 8., 1., 1., 7., 3., 8., 4., 2., 1., 3., 1., 0., 4., 5.,\n",
       "       1., 1., 0., 6., 7., 4., 8., 1., 2., 6., 8., 6., 0., 8., 7., 4., 0.,\n",
       "       1., 1., 5., 5., 5., 0., 5., 3., 5., 1., 5., 0., 5., 6., 7., 4., 7.,\n",
       "       6., 5., 0., 2., 7., 7., 5., 1., 0., 9., 4., 4., 2., 9., 0., 1., 4.,\n",
       "       4., 6., 5., 7., 1., 7., 5., 8., 4., 3., 3., 6., 1., 3., 7., 2., 1.,\n",
       "       0., 3., 4., 7., 6., 7., 9., 7., 7., 4., 5., 3., 4., 6., 2., 8., 2.,\n",
       "       9., 1., 8., 1., 8., 7., 9., 6., 3., 5., 3., 7., 3., 0., 1., 1., 2.,\n",
       "       4., 3., 0., 6., 8., 1., 5., 9., 7., 5., 9., 0., 5., 4., 9., 9., 5.,\n",
       "       1., 2., 9., 7., 0., 7., 1., 5., 2., 0., 0., 3., 9., 5., 4., 8., 8.,\n",
       "       2., 2., 1., 2., 9., 6., 9., 2., 2., 8., 2., 7., 8., 3., 8., 8., 0.,\n",
       "       8., 1., 7., 9., 2., 3., 3., 5., 1., 8., 6., 3., 6., 2., 2., 4., 0.,\n",
       "       2., 7., 7., 8., 5., 3., 5., 4., 4., 9., 4., 5., 8., 5., 2., 6., 4.,\n",
       "       1., 9., 8., 7., 3., 8., 8., 1., 0., 4., 0., 1., 4., 9., 7., 6., 1.,\n",
       "       4., 3., 3., 1., 6., 1., 1., 8., 0., 6., 4., 9., 9., 8., 8., 9., 3.,\n",
       "       3., 6., 1., 8., 8., 1., 0., 1., 1., 4., 3., 9., 9., 1., 7., 6., 9.,\n",
       "       0., 3., 3., 9., 3., 0., 6., 1., 7., 9., 6., 7., 5., 4., 2., 1., 8.,\n",
       "       3., 2., 3., 0., 4., 8., 2., 6., 4., 4., 6., 6., 0., 8., 2., 8., 4.,\n",
       "       9., 2., 7., 6., 8., 4., 1., 3., 9., 6., 0., 2., 8., 9., 6., 9., 1.,\n",
       "       5., 4., 4., 2., 3., 3., 6., 5., 2., 7., 7., 4., 8., 9., 6., 3., 1.,\n",
       "       8., 7., 4., 0., 9., 0., 3., 9., 9., 8., 7., 4., 4., 4., 3., 9., 3.,\n",
       "       6., 3., 5., 5., 8., 2., 3., 1., 4., 3., 2., 9., 1., 1., 4., 8., 6.,\n",
       "       8., 3., 7., 6., 6., 6., 9., 9., 7., 0., 6., 6., 9., 2., 7., 1., 0.,\n",
       "       5., 1., 8., 8., 0., 6., 7., 8., 5., 3., 1., 1., 0., 5., 3., 7., 7.,\n",
       "       1., 0., 0., 5., 2., 7., 1., 2., 1., 9., 7., 8., 2., 4., 2., 9., 4.,\n",
       "       4., 5., 8., 0., 6., 2., 7., 0., 6., 7., 7., 3., 3., 7., 5., 8., 2.,\n",
       "       7., 4., 1., 0., 9., 1., 8., 5., 0., 3., 4., 2., 5., 1., 5., 9., 9.,\n",
       "       9., 3., 9., 2., 2., 5., 6., 4., 0., 3., 2., 4., 2., 9., 3., 2., 7.,\n",
       "       3., 3., 4., 3., 7., 5., 9., 6., 4., 9., 5., 0., 5., 3., 4., 4., 0.,\n",
       "       5., 0., 6., 4., 6., 2., 2., 2., 8., 8., 2., 7., 9., 2., 1., 2., 2.,\n",
       "       1., 0., 2., 4., 8., 4., 0., 0., 5., 3., 7., 1., 9., 0., 1., 3., 4.,\n",
       "       7., 9., 6., 2., 5., 0., 4., 1., 4., 1., 1., 0., 3., 7., 5., 5., 6.,\n",
       "       8., 7., 1., 6., 5., 1., 0., 1., 8., 1., 8., 4., 3., 1., 6., 5., 1.,\n",
       "       5., 3., 0., 5., 7., 2., 2., 4., 5., 9., 3., 3., 1., 3., 8., 1., 1.,\n",
       "       6., 7., 7., 4., 1., 6., 9., 5., 7., 0., 7., 8., 3., 0., 2., 2., 0.,\n",
       "       1., 0., 0., 3., 4., 9., 6., 3., 6., 5., 2., 2., 7., 7., 5., 7., 5.,\n",
       "       4., 0., 9.])"
      ]
     },
     "execution_count": 55,
     "metadata": {},
     "output_type": "execute_result"
    }
   ],
   "source": [
    "%time clf.predict(X_test)"
   ]
  },
  {
   "cell_type": "code",
   "execution_count": 56,
   "metadata": {},
   "outputs": [
    {
     "name": "stdout",
     "output_type": "stream",
     "text": [
      "Wall time: 3.76 s\n"
     ]
    },
    {
     "data": {
      "text/plain": [
       "array([6, 9, 0, 8, 2, 8, 4, 4, 8, 0, 1, 7, 6, 2, 1, 0, 9, 3, 4, 0, 8, 1,\n",
       "       3, 6, 2, 4, 7, 5, 8, 2, 7, 7, 7, 7, 0, 9, 6, 6, 0, 1, 3, 8, 8, 8,\n",
       "       1, 6, 2, 6, 2, 0, 1, 0, 6, 5, 5, 1, 3, 4, 9, 2, 9, 8, 3, 5, 0, 1,\n",
       "       5, 7, 7, 6, 8, 2, 7, 9, 1, 5, 5, 6, 0, 8, 6, 2, 2, 0, 0, 7, 8, 6,\n",
       "       1, 5, 6, 6, 5, 2, 6, 4, 7, 3, 0, 7, 9, 4, 7, 9, 1, 8, 1, 1, 7, 3,\n",
       "       8, 4, 2, 1, 3, 1, 0, 4, 5, 1, 1, 0, 6, 7, 4, 8, 1, 2, 6, 8, 6, 0,\n",
       "       8, 7, 4, 0, 1, 1, 5, 5, 5, 0, 5, 3, 5, 1, 5, 0, 5, 6, 7, 4, 7, 6,\n",
       "       5, 0, 2, 7, 7, 5, 1, 0, 9, 4, 4, 2, 9, 0, 1, 4, 4, 6, 5, 7, 1, 7,\n",
       "       5, 8, 4, 3, 3, 6, 1, 3, 7, 2, 1, 0, 3, 4, 7, 6, 7, 9, 7, 7, 4, 5,\n",
       "       3, 4, 6, 2, 8, 2, 9, 1, 8, 1, 8, 7, 9, 6, 3, 5, 3, 7, 3, 0, 1, 1,\n",
       "       2, 4, 3, 0, 6, 8, 1, 5, 9, 7, 5, 9, 0, 5, 4, 9, 9, 5, 1, 2, 9, 7,\n",
       "       0, 7, 1, 5, 2, 0, 0, 3, 9, 5, 4, 8, 8, 2, 2, 1, 2, 9, 6, 9, 2, 2,\n",
       "       8, 2, 7, 8, 3, 8, 8, 0, 8, 1, 7, 9, 2, 3, 3, 5, 1, 8, 6, 3, 6, 2,\n",
       "       2, 4, 0, 2, 7, 7, 8, 5, 3, 5, 4, 4, 9, 4, 5, 8, 5, 2, 6, 4, 1, 9,\n",
       "       8, 7, 3, 8, 8, 1, 0, 4, 0, 1, 4, 9, 7, 6, 1, 4, 3, 3, 1, 6, 1, 1,\n",
       "       8, 0, 6, 4, 9, 9, 8, 8, 9, 3, 3, 6, 1, 8, 8, 1, 0, 1, 1, 4, 3, 9,\n",
       "       9, 1, 7, 6, 9, 0, 3, 3, 9, 3, 0, 6, 1, 7, 9, 6, 7, 5, 4, 2, 1, 8,\n",
       "       3, 2, 3, 0, 4, 8, 2, 6, 4, 4, 6, 6, 0, 8, 2, 8, 4, 9, 2, 7, 6, 8,\n",
       "       4, 1, 3, 9, 6, 0, 2, 8, 9, 6, 9, 1, 5, 4, 4, 2, 3, 3, 6, 5, 2, 7,\n",
       "       7, 4, 8, 9, 6, 3, 1, 8, 7, 4, 0, 9, 0, 3, 9, 9, 8, 7, 4, 4, 4, 3,\n",
       "       9, 3, 6, 3, 5, 5, 8, 2, 3, 1, 4, 3, 2, 9, 1, 1, 4, 8, 6, 8, 3, 7,\n",
       "       6, 6, 6, 9, 9, 7, 0, 6, 6, 9, 2, 7, 1, 0, 5, 1, 8, 8, 0, 6, 7, 8,\n",
       "       5, 3, 1, 1, 0, 5, 3, 7, 7, 1, 0, 0, 5, 2, 7, 1, 2, 1, 9, 7, 8, 2,\n",
       "       4, 2, 9, 4, 4, 5, 8, 0, 6, 2, 7, 0, 6, 7, 7, 3, 3, 7, 5, 8, 2, 7,\n",
       "       4, 1, 0, 9, 1, 8, 5, 0, 3, 4, 2, 5, 1, 5, 9, 9, 9, 3, 9, 2, 2, 5,\n",
       "       6, 4, 0, 3, 2, 4, 2, 9, 3, 2, 7, 3, 3, 4, 3, 7, 5, 9, 6, 4, 9, 5,\n",
       "       0, 5, 3, 4, 4, 0, 5, 0, 6, 4, 6, 2, 2, 2, 8, 8, 2, 7, 9, 2, 1, 2,\n",
       "       2, 1, 0, 2, 4, 8, 4, 0, 0, 5, 3, 7, 1, 9, 0, 1, 3, 4, 7, 9, 6, 2,\n",
       "       5, 0, 4, 1, 4, 1, 1, 0, 3, 7, 5, 5, 6, 8, 7, 1, 6, 5, 1, 0, 1, 8,\n",
       "       1, 8, 4, 3, 1, 6, 5, 1, 5, 3, 0, 5, 7, 2, 2, 4, 5, 9, 3, 3, 1, 3,\n",
       "       8, 1, 1, 6, 7, 7, 4, 1, 6, 9, 5, 7, 0, 7, 8, 3, 0, 2, 2, 0, 1, 0,\n",
       "       0, 3, 4, 9, 6, 3, 6, 5, 2, 2, 7, 7, 5, 7, 5, 4, 0, 9], dtype=int64)"
      ]
     },
     "execution_count": 56,
     "metadata": {},
     "output_type": "execute_result"
    }
   ],
   "source": [
    "%time  my_clf.predict(X_test)"
   ]
  },
  {
   "cell_type": "code",
   "execution_count": 57,
   "metadata": {},
   "outputs": [
    {
     "name": "stdout",
     "output_type": "stream",
     "text": [
      "Wall time: 3.41 s\n"
     ]
    },
    {
     "data": {
      "text/plain": [
       "array([[0., 0., 0., ..., 0., 0., 0.],\n",
       "       [0., 0., 0., ..., 0., 0., 1.],\n",
       "       [1., 0., 0., ..., 0., 0., 0.],\n",
       "       ...,\n",
       "       [0., 0., 0., ..., 0., 0., 0.],\n",
       "       [1., 0., 0., ..., 0., 0., 0.],\n",
       "       [0., 0., 0., ..., 0., 0., 1.]])"
      ]
     },
     "execution_count": 57,
     "metadata": {},
     "output_type": "execute_result"
    }
   ],
   "source": [
    "%time clf.predict_proba(X_test)"
   ]
  },
  {
   "cell_type": "code",
   "execution_count": 58,
   "metadata": {},
   "outputs": [
    {
     "name": "stdout",
     "output_type": "stream",
     "text": [
      "Wall time: 3.83 s\n"
     ]
    },
    {
     "data": {
      "text/plain": [
       "array([[0., 0., 0., ..., 0., 0., 0.],\n",
       "       [0., 0., 0., ..., 0., 0., 1.],\n",
       "       [1., 0., 0., ..., 0., 0., 0.],\n",
       "       ...,\n",
       "       [0., 0., 0., ..., 0., 0., 0.],\n",
       "       [1., 0., 0., ..., 0., 0., 0.],\n",
       "       [0., 0., 0., ..., 0., 0., 1.]])"
      ]
     },
     "execution_count": 58,
     "metadata": {},
     "output_type": "execute_result"
    }
   ],
   "source": [
    "%time my_clf.predict_proba(X_test)"
   ]
  },
  {
   "cell_type": "code",
   "execution_count": 59,
   "metadata": {},
   "outputs": [
    {
     "data": {
      "text/plain": [
       "0.9728571428571429"
      ]
     },
     "execution_count": 59,
     "metadata": {},
     "output_type": "execute_result"
    }
   ],
   "source": [
    "clf.score(X_test, y_test)"
   ]
  },
  {
   "cell_type": "code",
   "execution_count": 60,
   "metadata": {},
   "outputs": [
    {
     "data": {
      "text/plain": [
       "0.9728571428571429"
      ]
     },
     "execution_count": 60,
     "metadata": {},
     "output_type": "execute_result"
    }
   ],
   "source": [
    "my_clf.score(X_test, y_test)"
   ]
  },
  {
   "cell_type": "markdown",
   "metadata": {},
   "source": [
    "Задание 4"
   ]
  },
  {
   "cell_type": "code",
   "execution_count": 61,
   "metadata": {},
   "outputs": [],
   "source": [
    "clf = KNeighborsClassifier(n_neighbors=10, algorithm='kd_tree')\n",
    "my_clf = MyKNeighborsClassifier(n_neighbors=10, algorithm='kd_tree')"
   ]
  },
  {
   "cell_type": "code",
   "execution_count": 62,
   "metadata": {},
   "outputs": [],
   "source": [
    "X_train, X_test, y_train, y_test = train_test_split(mnist.data, mnist.target, test_size=0.01, stratify=mnist.target)"
   ]
  },
  {
   "cell_type": "code",
   "execution_count": 63,
   "metadata": {},
   "outputs": [
    {
     "name": "stdout",
     "output_type": "stream",
     "text": [
      "Wall time: 1min 4s\n"
     ]
    },
    {
     "data": {
      "text/plain": [
       "KNeighborsClassifier(algorithm='kd_tree', leaf_size=30, metric='minkowski',\n",
       "           metric_params=None, n_jobs=1, n_neighbors=10, p=2,\n",
       "           weights='uniform')"
      ]
     },
     "execution_count": 63,
     "metadata": {},
     "output_type": "execute_result"
    }
   ],
   "source": [
    "%time clf.fit(X_train, y_train)"
   ]
  },
  {
   "cell_type": "code",
   "execution_count": 64,
   "metadata": {},
   "outputs": [
    {
     "name": "stdout",
     "output_type": "stream",
     "text": [
      "Wall time: 1min 4s\n"
     ]
    }
   ],
   "source": [
    "%time my_clf.fit(X_train, y_train)"
   ]
  },
  {
   "cell_type": "code",
   "execution_count": 65,
   "metadata": {},
   "outputs": [
    {
     "name": "stdout",
     "output_type": "stream",
     "text": [
      "Wall time: 1min 22s\n"
     ]
    },
    {
     "data": {
      "text/plain": [
       "array([6., 1., 1., 5., 0., 4., 7., 3., 5., 3., 9., 1., 6., 3., 4., 5., 2.,\n",
       "       2., 1., 7., 7., 1., 1., 5., 6., 2., 9., 3., 0., 0., 3., 9., 6., 0.,\n",
       "       8., 3., 4., 8., 6., 3., 3., 4., 1., 5., 6., 7., 1., 7., 7., 7., 7.,\n",
       "       6., 3., 0., 1., 5., 1., 5., 0., 2., 3., 5., 3., 1., 3., 0., 5., 5.,\n",
       "       1., 8., 0., 4., 8., 1., 6., 1., 4., 1., 4., 8., 2., 2., 9., 6., 1.,\n",
       "       0., 0., 8., 7., 9., 0., 1., 4., 6., 7., 7., 4., 8., 8., 7., 1., 0.,\n",
       "       0., 9., 9., 0., 0., 4., 2., 6., 8., 7., 6., 6., 7., 6., 5., 0., 1.,\n",
       "       4., 0., 8., 5., 8., 5., 2., 9., 4., 0., 3., 8., 0., 5., 4., 0., 0.,\n",
       "       3., 2., 9., 1., 7., 8., 2., 4., 4., 0., 9., 0., 2., 5., 6., 2., 6.,\n",
       "       3., 0., 5., 6., 9., 3., 2., 6., 0., 2., 9., 7., 1., 3., 7., 9., 9.,\n",
       "       1., 5., 6., 4., 0., 4., 6., 9., 4., 7., 5., 1., 2., 7., 1., 5., 1.,\n",
       "       9., 4., 6., 9., 0., 3., 5., 6., 7., 5., 3., 3., 1., 1., 4., 9., 9.,\n",
       "       8., 3., 1., 1., 9., 5., 7., 5., 3., 3., 9., 2., 0., 5., 7., 9., 8.,\n",
       "       0., 2., 9., 6., 3., 1., 0., 7., 1., 7., 9., 0., 7., 8., 0., 6., 7.,\n",
       "       6., 4., 0., 1., 4., 9., 6., 4., 3., 8., 1., 6., 0., 4., 6., 7., 5.,\n",
       "       1., 8., 9., 6., 8., 1., 6., 2., 4., 3., 7., 0., 7., 6., 6., 3., 7.,\n",
       "       5., 9., 3., 7., 2., 8., 1., 7., 7., 9., 9., 5., 2., 2., 5., 9., 1.,\n",
       "       4., 5., 6., 3., 1., 0., 4., 3., 5., 7., 7., 0., 5., 1., 2., 9., 2.,\n",
       "       3., 2., 1., 0., 1., 0., 3., 0., 5., 6., 8., 7., 4., 9., 1., 0., 2.,\n",
       "       1., 8., 1., 7., 8., 8., 8., 0., 0., 4., 0., 5., 1., 9., 5., 7., 2.,\n",
       "       9., 5., 1., 2., 4., 5., 9., 0., 7., 1., 3., 8., 6., 6., 8., 2., 5.,\n",
       "       1., 8., 4., 7., 5., 1., 2., 7., 8., 5., 4., 7., 7., 3., 8., 6., 8.,\n",
       "       1., 8., 9., 6., 2., 3., 2., 5., 1., 3., 6., 0., 3., 9., 1., 6., 8.,\n",
       "       1., 5., 4., 3., 8., 3., 7., 7., 4., 4., 3., 0., 5., 5., 3., 9., 9.,\n",
       "       3., 3., 0., 0., 7., 7., 9., 2., 5., 6., 7., 6., 3., 4., 6., 1., 1.,\n",
       "       3., 7., 8., 3., 5., 9., 7., 9., 9., 0., 0., 8., 5., 8., 9., 1., 4.,\n",
       "       8., 7., 7., 5., 9., 2., 8., 8., 0., 0., 8., 2., 4., 0., 8., 8., 2.,\n",
       "       8., 5., 9., 9., 1., 2., 2., 4., 4., 2., 4., 2., 6., 6., 2., 2., 6.,\n",
       "       4., 4., 2., 6., 4., 7., 7., 1., 5., 7., 9., 6., 0., 9., 6., 4., 3.,\n",
       "       9., 8., 4., 4., 4., 1., 4., 1., 3., 4., 2., 3., 6., 8., 8., 8., 7.,\n",
       "       9., 7., 5., 3., 8., 3., 3., 7., 4., 6., 0., 0., 2., 7., 6., 9., 3.,\n",
       "       1., 7., 4., 2., 1., 1., 8., 7., 5., 9., 2., 2., 8., 4., 1., 7., 0.,\n",
       "       0., 3., 1., 5., 7., 9., 6., 0., 0., 0., 8., 7., 1., 9., 7., 5., 2.,\n",
       "       8., 3., 6., 8., 1., 2., 1., 1., 3., 0., 1., 7., 6., 7., 9., 8., 7.,\n",
       "       7., 8., 9., 9., 8., 1., 1., 3., 0., 1., 8., 6., 5., 3., 0., 2., 9.,\n",
       "       6., 6., 2., 0., 4., 7., 1., 5., 0., 0., 1., 9., 5., 9., 1., 6., 8.,\n",
       "       1., 6., 6., 3., 2., 9., 2., 4., 2., 4., 4., 7., 3., 2., 7., 8., 3.,\n",
       "       6., 0., 5., 0., 4., 8., 6., 2., 6., 2., 4., 4., 5., 5., 1., 4., 6.,\n",
       "       9., 5., 1., 3., 8., 2., 3., 7., 2., 2., 8., 3., 1., 5., 9., 9., 3.,\n",
       "       6., 6., 5., 3., 8., 2., 2., 9., 0., 0., 4., 9., 8., 3., 3., 4., 0.,\n",
       "       1., 9., 4., 8., 9., 0., 3., 7., 8., 8., 9., 3., 0., 7., 5., 5., 7.,\n",
       "       2., 0., 3.])"
      ]
     },
     "execution_count": 65,
     "metadata": {},
     "output_type": "execute_result"
    }
   ],
   "source": [
    "%time clf.predict(X_test)"
   ]
  },
  {
   "cell_type": "code",
   "execution_count": 66,
   "metadata": {},
   "outputs": [
    {
     "name": "stdout",
     "output_type": "stream",
     "text": [
      "Wall time: 1min 5s\n"
     ]
    },
    {
     "data": {
      "text/plain": [
       "array([6, 1, 1, 5, 0, 4, 7, 3, 5, 3, 9, 1, 6, 3, 4, 5, 2, 2, 1, 7, 7, 1,\n",
       "       1, 5, 6, 2, 9, 3, 0, 0, 3, 9, 6, 0, 8, 3, 4, 8, 6, 3, 3, 4, 1, 5,\n",
       "       6, 7, 1, 7, 7, 7, 7, 6, 3, 0, 1, 5, 1, 5, 0, 2, 3, 5, 3, 1, 3, 0,\n",
       "       5, 5, 1, 8, 0, 4, 8, 1, 6, 1, 4, 1, 4, 8, 2, 2, 9, 6, 1, 0, 0, 8,\n",
       "       7, 9, 0, 1, 4, 6, 7, 7, 4, 8, 8, 7, 1, 0, 0, 9, 9, 0, 0, 4, 2, 6,\n",
       "       8, 7, 6, 6, 7, 6, 5, 0, 1, 4, 0, 8, 5, 8, 5, 2, 9, 4, 0, 3, 8, 0,\n",
       "       5, 4, 0, 0, 3, 2, 9, 1, 7, 8, 2, 4, 4, 0, 9, 0, 2, 5, 6, 2, 6, 3,\n",
       "       0, 5, 6, 9, 3, 2, 6, 0, 2, 9, 7, 1, 3, 7, 9, 9, 1, 5, 6, 4, 0, 4,\n",
       "       6, 9, 4, 7, 5, 1, 2, 7, 1, 5, 1, 9, 4, 6, 9, 0, 3, 5, 6, 7, 5, 3,\n",
       "       3, 1, 1, 4, 9, 9, 8, 3, 1, 1, 9, 5, 7, 5, 3, 3, 9, 2, 0, 5, 7, 9,\n",
       "       8, 0, 2, 9, 6, 3, 1, 0, 7, 1, 7, 9, 0, 7, 8, 0, 6, 7, 6, 4, 0, 1,\n",
       "       4, 9, 6, 4, 3, 8, 1, 6, 0, 4, 6, 7, 5, 1, 8, 9, 6, 8, 1, 6, 2, 4,\n",
       "       3, 7, 0, 7, 6, 6, 3, 7, 5, 9, 3, 7, 2, 8, 1, 7, 7, 9, 9, 5, 2, 2,\n",
       "       5, 9, 1, 4, 5, 6, 3, 1, 0, 4, 3, 5, 7, 7, 0, 5, 1, 2, 9, 2, 3, 2,\n",
       "       1, 0, 1, 0, 3, 0, 5, 6, 8, 7, 4, 9, 1, 0, 2, 1, 8, 1, 7, 8, 8, 8,\n",
       "       0, 0, 4, 0, 5, 1, 9, 5, 7, 2, 9, 5, 1, 2, 4, 5, 9, 0, 7, 1, 3, 8,\n",
       "       6, 6, 8, 2, 5, 1, 8, 4, 7, 5, 1, 2, 7, 8, 5, 4, 7, 7, 3, 8, 6, 8,\n",
       "       1, 8, 9, 6, 2, 3, 2, 5, 1, 3, 6, 0, 3, 9, 1, 6, 8, 1, 5, 4, 3, 8,\n",
       "       3, 7, 7, 4, 4, 3, 0, 5, 5, 3, 9, 9, 3, 3, 0, 0, 7, 7, 9, 2, 5, 6,\n",
       "       7, 6, 3, 4, 6, 1, 1, 3, 7, 8, 3, 5, 9, 7, 9, 9, 0, 0, 8, 5, 8, 9,\n",
       "       1, 4, 8, 7, 7, 5, 9, 2, 8, 8, 0, 0, 8, 2, 4, 0, 8, 8, 2, 8, 5, 9,\n",
       "       9, 1, 2, 2, 4, 4, 2, 4, 2, 6, 6, 2, 2, 6, 4, 4, 2, 6, 4, 7, 7, 1,\n",
       "       5, 7, 9, 6, 0, 9, 6, 4, 3, 9, 8, 4, 4, 4, 1, 4, 1, 3, 4, 2, 3, 6,\n",
       "       8, 8, 8, 7, 9, 7, 5, 3, 8, 3, 3, 7, 4, 6, 0, 0, 2, 7, 6, 9, 3, 1,\n",
       "       7, 4, 2, 1, 1, 8, 7, 5, 9, 2, 2, 8, 4, 1, 7, 0, 0, 3, 1, 5, 7, 9,\n",
       "       6, 0, 0, 0, 8, 7, 1, 9, 7, 5, 2, 8, 3, 6, 8, 1, 2, 1, 1, 3, 0, 1,\n",
       "       7, 6, 7, 9, 8, 7, 7, 8, 9, 9, 8, 1, 1, 3, 0, 1, 8, 6, 5, 3, 0, 2,\n",
       "       9, 6, 6, 2, 0, 4, 7, 1, 5, 0, 0, 1, 9, 5, 9, 1, 6, 8, 1, 6, 6, 3,\n",
       "       2, 9, 2, 4, 2, 4, 4, 7, 3, 2, 7, 8, 3, 6, 0, 5, 0, 4, 8, 6, 2, 6,\n",
       "       2, 4, 4, 5, 5, 1, 4, 6, 9, 5, 1, 3, 8, 2, 3, 7, 2, 2, 8, 3, 1, 5,\n",
       "       9, 9, 3, 6, 6, 5, 3, 8, 2, 2, 9, 0, 0, 4, 9, 8, 3, 3, 4, 0, 1, 9,\n",
       "       4, 8, 9, 0, 3, 7, 8, 8, 9, 3, 0, 7, 5, 5, 7, 2, 0, 3], dtype=int64)"
      ]
     },
     "execution_count": 66,
     "metadata": {},
     "output_type": "execute_result"
    }
   ],
   "source": [
    "%time my_clf.predict(X_test)"
   ]
  },
  {
   "cell_type": "code",
   "execution_count": 67,
   "metadata": {},
   "outputs": [
    {
     "name": "stdout",
     "output_type": "stream",
     "text": [
      "Wall time: 1min 29s\n"
     ]
    },
    {
     "data": {
      "text/plain": [
       "array([[0. , 0. , 0. , ..., 0. , 0. , 0. ],\n",
       "       [0. , 1. , 0. , ..., 0. , 0. , 0. ],\n",
       "       [0. , 1. , 0. , ..., 0. , 0. , 0. ],\n",
       "       ...,\n",
       "       [0. , 0. , 1. , ..., 0. , 0. , 0. ],\n",
       "       [0.9, 0. , 0.1, ..., 0. , 0. , 0. ],\n",
       "       [0. , 0. , 0. , ..., 0. , 0. , 0. ]])"
      ]
     },
     "execution_count": 67,
     "metadata": {},
     "output_type": "execute_result"
    }
   ],
   "source": [
    "%time clf.predict_proba(X_test)"
   ]
  },
  {
   "cell_type": "code",
   "execution_count": 68,
   "metadata": {},
   "outputs": [
    {
     "name": "stdout",
     "output_type": "stream",
     "text": [
      "Wall time: 1min 4s\n"
     ]
    },
    {
     "data": {
      "text/plain": [
       "array([[0. , 0. , 0. , ..., 0. , 0. , 0. ],\n",
       "       [0. , 1. , 0. , ..., 0. , 0. , 0. ],\n",
       "       [0. , 1. , 0. , ..., 0. , 0. , 0. ],\n",
       "       ...,\n",
       "       [0. , 0. , 1. , ..., 0. , 0. , 0. ],\n",
       "       [0.9, 0. , 0.1, ..., 0. , 0. , 0. ],\n",
       "       [0. , 0. , 0. , ..., 0. , 0. , 0. ]])"
      ]
     },
     "execution_count": 68,
     "metadata": {},
     "output_type": "execute_result"
    }
   ],
   "source": [
    "%time my_clf.predict_proba(X_test)"
   ]
  },
  {
   "cell_type": "code",
   "execution_count": 69,
   "metadata": {},
   "outputs": [
    {
     "data": {
      "text/plain": [
       "0.9685714285714285"
      ]
     },
     "execution_count": 69,
     "metadata": {},
     "output_type": "execute_result"
    }
   ],
   "source": [
    "clf.score(X_test, y_test)"
   ]
  },
  {
   "cell_type": "code",
   "execution_count": 70,
   "metadata": {},
   "outputs": [
    {
     "data": {
      "text/plain": [
       "0.9685714285714285"
      ]
     },
     "execution_count": 70,
     "metadata": {},
     "output_type": "execute_result"
    }
   ],
   "source": [
    "my_clf.score(X_test, y_test)"
   ]
  },
  {
   "cell_type": "markdown",
   "metadata": {},
   "source": [
    "Задание 5"
   ]
  },
  {
   "cell_type": "code",
   "execution_count": 71,
   "metadata": {},
   "outputs": [],
   "source": [
    "%%pycodestyle\n",
    "\n",
    "# seaborn\n",
    "\n",
    "# Используется для визуализации данных\n",
    "\n",
    "# matplotlib\n",
    "\n",
    "# Используется для визуализации данных\n",
    "\n",
    "# train_test_split\n",
    "\n",
    "# Используется для разбития данных на обучающую и тестовую выборку\n",
    "\n",
    "# Pipelin%load_ext e (from sklearn.pipeline import Pipeline)\n",
    "\n",
    "# Конвйер, позволяющий поочередно выполнить набор команд,\n",
    "#                       где следущей на вход подается выход предыдущей\n",
    "\n",
    "# StandardScaler (from sklearn.preprocessing import StandardScaler)\n",
    "\n",
    "# Производит преобразование данных путем вычитания\n",
    "#                       среднего и деления на стандартное отклонение\n",
    "\n",
    "# ClassifierMixin\n",
    "\n",
    "# Класс реализующий score (mean accuracy) для классификаторов из sclearn\n",
    "\n",
    "# NeighborsBase\n",
    "\n",
    "# Один из базовых классов для ближайших соседей\n",
    "# В основном ищет ошибки ввода (неправильная метрика,неправельный алгорим и тд)\n",
    "\n",
    "# KNeighborsMixin\n",
    "\n",
    "# Класс в котором реализован поиск ближайших соседей\n",
    "\n",
    "# SupervisedIntegerMixin\n",
    "\n",
    "# Класс для моделей sklearn в котором аписан метод fit"
   ]
  },
  {
   "cell_type": "code",
   "execution_count": null,
   "metadata": {},
   "outputs": [],
   "source": []
  }
 ],
 "metadata": {
  "kernelspec": {
   "display_name": "Python 3",
   "language": "python",
   "name": "python3"
  },
  "language_info": {
   "codemirror_mode": {
    "name": "ipython",
    "version": 3
   },
   "file_extension": ".py",
   "mimetype": "text/x-python",
   "name": "python",
   "nbconvert_exporter": "python",
   "pygments_lexer": "ipython3",
   "version": "3.6.5"
  }
 },
 "nbformat": 4,
 "nbformat_minor": 2
}
